{
 "cells": [
  {
   "cell_type": "code",
   "execution_count": 1,
   "id": "4f1fe16c",
   "metadata": {},
   "outputs": [],
   "source": [
    "from scqbf.scqbf_evaluator import *\n",
    "from scqbf.scqbf_solution import *\n",
    "from scqbf.scqbf_ga import *\n",
    "from scqbf.scqbf_instance import *\n",
    "\n",
    "import pandas as pd\n",
    "import numpy as np\n",
    "import pickle"
   ]
  },
  {
   "cell_type": "code",
   "execution_count": 2,
   "id": "1a497ed1",
   "metadata": {},
   "outputs": [],
   "source": [
    "# instance_paths = [(f\"instances/gen{i}/instance{j}.txt\", i, j) for i in range(1, 4) for j in range(1, 6)]\n",
    "instance_paths = [(f\"instances/gen1/instance4.txt\", 1, 4)]"
   ]
  },
  {
   "cell_type": "code",
   "execution_count": 3,
   "id": "95fe74aa",
   "metadata": {},
   "outputs": [],
   "source": [
    "import random\n",
    "\n",
    "# Set population size\n",
    "pop_size_1 = 100 \n",
    "pop_size_2 = random.randint(100, 1000) # \n",
    "\n",
    "# Set mutation rate\n",
    "mutation_rate_1 = 1/100\n",
    "mutation_rate_2 = 1/50"
   ]
  },
  {
   "cell_type": "code",
   "execution_count": null,
   "id": "df7085fb",
   "metadata": {},
   "outputs": [],
   "source": [
    "def run_experiment(config: dict, pop_size, mutation_rate) -> pd.DataFrame:\n",
    "    results = []\n",
    "    exp_num = 0\n",
    "\n",
    "    for instance_path, gen, inst in instance_paths:\n",
    "        # Read Instance\n",
    "        instance = read_max_sc_qbf_instance(instance_path)\n",
    "        print(f\"{exp_num}: {inst}th instance of generation strategy {gen}. Path: {instance_path}\")\n",
    "        exp_num += 1\n",
    "        \n",
    "        # Set stop criteria values\n",
    "        if config.get('stop_criteria', 'time') == 'time':\n",
    "            time_limit = 60*30 # 30 minutes\n",
    "            n_generations = None\n",
    "        elif config.get('stop_criteria', 'time') == 'generations':\n",
    "            time_limit = None\n",
    "            n_generations = 1000\n",
    "\n",
    "        # Run Genetic Algorithm\n",
    "        ga = ScQbfGeneticAlgorithm(\n",
    "            instance, \n",
    "            time_limit_secs=time_limit, \n",
    "            generations=n_generations, \n",
    "            pop_size=pop_size, \n",
    "            mutation_rate=mutation_rate, \n",
    "            debug=True, \n",
    "            config=config\n",
    "        )\n",
    "        best_solution = ga.solve()\n",
    "        \n",
    "        # Evaluate and save metrics\n",
    "        evaluator = ScQbfEvaluator(instance)\n",
    "        results.append({\n",
    "            'gen': gen,\n",
    "            'inst': inst,\n",
    "            'n': instance.n,\n",
    "            'best_objective': round(evaluator.evaluate_objfun(best_solution), 4),\n",
    "            'coverage': evaluator.evaluate_coverage(best_solution),\n",
    "            'time_taken': round(ga.solve_time),\n",
    "            'n_generations': ga.current_generation,\n",
    "        })\n",
    "        \n",
    "        # Print values\n",
    "        last_result = results[-1]\n",
    "        print(f\"\\tBest objective value: {last_result['best_objective']:.4f}\")\n",
    "        print(f\"Selected elements: {best_solution.elements}\")\n",
    "        print(f\"\\tCoverage: {last_result['coverage']:.2%}\")\n",
    "        print(f\"\\tGenerations executed: {last_result['n_generations']}\")\n",
    "        print()\n",
    "\n",
    "    df = pd.DataFrame(results)\n",
    "    return df"
   ]
  },
  {
   "cell_type": "markdown",
   "id": "632903cd",
   "metadata": {},
   "source": [
    "## Configuração 1 - PADRÃO:\n",
    "GA com população de tamanho 'pop_size_1', taxa de mutação 'mutation_rate_1' e construção aleatória da população"
   ]
  },
  {
   "cell_type": "code",
   "execution_count": 5,
   "id": "bf22a137",
   "metadata": {},
   "outputs": [
    {
     "name": "stdout",
     "output_type": "stream",
     "text": [
      "0: 4th instance of generation strategy 1. Path: instances/gen1/instance4.txt\n",
      "Generation 0: BestSolution = ScQbfSolution(elements=[0, 3, 4, 7, 10, 11, 12, 15, 18, 22, 23, 24], _last_objfun_val=161.04000000000002)\n",
      "Generation 2: BestSolution = ScQbfSolution(elements=[0, 3, 4, 7, 10, 11, 12, 15, 18, 23, 24], _last_objfun_val=175.25000000000006)\n",
      "Generation 3: BestSolution = ScQbfSolution(elements=[0, 3, 4, 7, 10, 11, 12, 15, 18, 19, 20, 22, 23, 24], _last_objfun_val=185.72000000000003)\n",
      "Generation 4: BestSolution = ScQbfSolution(elements=[0, 3, 4, 7, 10, 11, 12, 15, 17, 20, 23, 24], _last_objfun_val=211.0300000000001)\n",
      "Generation 5: BestSolution = ScQbfSolution(elements=[0, 3, 4, 7, 10, 11, 12, 13, 15, 17, 18, 19, 20, 23, 24], _last_objfun_val=243.18999999999994)\n",
      "Generation 10: BestSolution = ScQbfSolution(elements=[0, 3, 4, 5, 7, 8, 10, 11, 12, 13, 15, 16, 17, 18, 19, 20, 23, 24], _last_objfun_val=249.27999999999986)\n",
      "Generation 15: BestSolution = ScQbfSolution(elements=[0, 3, 4, 5, 6, 7, 8, 10, 12, 13, 14, 15, 16, 17, 18, 19, 20, 23, 24], _last_objfun_val=249.42999999999984)\n",
      "Generation 19: BestSolution = ScQbfSolution(elements=[0, 3, 4, 5, 6, 7, 8, 10, 12, 13, 14, 15, 16, 18, 19, 20, 23, 24], _last_objfun_val=261.05999999999983)\n",
      "Time limit of 120 seconds reached, stopping Genetic Algorithm in generation 26986.\n",
      "\tBest objective value: 261.0600\n",
      "Selected elements: [0, 3, 4, 5, 6, 7, 8, 10, 12, 13, 14, 15, 16, 18, 19, 20, 23, 24]\n",
      "\tCoverage: 100.00%\n",
      "\tGenerations executed: 26986\n",
      "\n"
     ]
    },
    {
     "data": {
      "text/html": [
       "<div>\n",
       "<style scoped>\n",
       "    .dataframe tbody tr th:only-of-type {\n",
       "        vertical-align: middle;\n",
       "    }\n",
       "\n",
       "    .dataframe tbody tr th {\n",
       "        vertical-align: top;\n",
       "    }\n",
       "\n",
       "    .dataframe thead th {\n",
       "        text-align: right;\n",
       "    }\n",
       "</style>\n",
       "<table border=\"1\" class=\"dataframe\">\n",
       "  <thead>\n",
       "    <tr style=\"text-align: right;\">\n",
       "      <th></th>\n",
       "      <th>gen</th>\n",
       "      <th>inst</th>\n",
       "      <th>n</th>\n",
       "      <th>best_objective</th>\n",
       "      <th>coverage</th>\n",
       "      <th>time_taken</th>\n",
       "      <th>n_generations</th>\n",
       "    </tr>\n",
       "  </thead>\n",
       "  <tbody>\n",
       "    <tr>\n",
       "      <th>0</th>\n",
       "      <td>1</td>\n",
       "      <td>4</td>\n",
       "      <td>25</td>\n",
       "      <td>261.06</td>\n",
       "      <td>1.0</td>\n",
       "      <td>120</td>\n",
       "      <td>26986</td>\n",
       "    </tr>\n",
       "  </tbody>\n",
       "</table>\n",
       "</div>"
      ],
      "text/plain": [
       "   gen  inst   n  best_objective  coverage  time_taken  n_generations\n",
       "0    1     4  25          261.06       1.0         120          26986"
      ]
     },
     "metadata": {},
     "output_type": "display_data"
    }
   ],
   "source": [
    "config = {\n",
    "    'stop_criteria': 'time' # Options: 'time', 'generations'\n",
    "}\n",
    "results_df = run_experiment(config, pop_size_1, mutation_rate_1)\n",
    "results_df.to_csv('results/experiment_results_1.csv', index=False)\n",
    "\n",
    "display(results_df)"
   ]
  },
  {
   "cell_type": "markdown",
   "id": "26f6fb38",
   "metadata": {},
   "source": [
    "## Configuração 2 - PADRÃO + UNIFORM CROSSOVER:\n",
    "GA com população de tamanho 'pop_size_1', taxa de mutação 'mutation_rate_1' e construção aleatória da população, uniform crossover"
   ]
  },
  {
   "cell_type": "code",
   "execution_count": 6,
   "id": "d2ba069c",
   "metadata": {},
   "outputs": [
    {
     "name": "stdout",
     "output_type": "stream",
     "text": [
      "0: 4th instance of generation strategy 1. Path: instances/gen1/instance4.txt\n",
      "Generation 0: BestSolution = ScQbfSolution(elements=[0, 1, 3, 4, 5, 12, 13, 15, 16, 18, 20, 24], _last_objfun_val=149.64)\n",
      "Generation 1: BestSolution = ScQbfSolution(elements=[0, 3, 4, 7, 8, 10, 12, 15, 17, 23, 24], _last_objfun_val=183.44000000000005)\n",
      "Generation 3: BestSolution = ScQbfSolution(elements=[0, 1, 3, 4, 7, 8, 9, 10, 12, 13, 15, 16, 17, 18, 20, 23], _last_objfun_val=193.63999999999996)\n",
      "Generation 4: BestSolution = ScQbfSolution(elements=[0, 1, 4, 5, 7, 8, 12, 13, 14, 15, 16, 17, 18, 19, 20, 23], _last_objfun_val=196.56000000000006)\n",
      "Generation 5: BestSolution = ScQbfSolution(elements=[0, 1, 3, 4, 7, 8, 9, 12, 13, 15, 16, 17, 18, 19, 20, 23, 24], _last_objfun_val=210.69)\n",
      "Generation 6: BestSolution = ScQbfSolution(elements=[0, 1, 3, 4, 5, 7, 8, 12, 13, 14, 15, 16, 18, 19, 20, 23, 24], _last_objfun_val=222.45)\n",
      "Generation 7: BestSolution = ScQbfSolution(elements=[0, 3, 4, 7, 8, 10, 12, 15, 16, 17, 18, 20, 23, 24], _last_objfun_val=222.94)\n",
      "Generation 9: BestSolution = ScQbfSolution(elements=[0, 3, 4, 7, 8, 10, 12, 13, 15, 16, 18, 19, 20, 23, 24], _last_objfun_val=237.88999999999996)\n",
      "Generation 10: BestSolution = ScQbfSolution(elements=[0, 1, 3, 4, 7, 8, 10, 11, 12, 13, 15, 16, 17, 18, 19, 20, 23, 24], _last_objfun_val=239.59)\n",
      "Generation 11: BestSolution = ScQbfSolution(elements=[0, 3, 4, 5, 7, 8, 10, 12, 13, 15, 16, 18, 19, 20, 23, 24], _last_objfun_val=253.35999999999984)\n",
      "Generation 14: BestSolution = ScQbfSolution(elements=[0, 3, 4, 5, 6, 7, 8, 10, 12, 13, 15, 16, 18, 19, 20, 23, 24], _last_objfun_val=259.03999999999985)\n",
      "Generation 16: BestSolution = ScQbfSolution(elements=[0, 3, 4, 5, 6, 7, 8, 10, 12, 13, 14, 15, 16, 18, 19, 20, 23, 24], _last_objfun_val=261.05999999999983)\n",
      "Time limit of 120 seconds reached, stopping Genetic Algorithm in generation 23080.\n",
      "\tBest objective value: 261.0600\n",
      "Selected elements: [0, 3, 4, 5, 6, 7, 8, 10, 12, 13, 14, 15, 16, 18, 19, 20, 23, 24]\n",
      "\tCoverage: 100.00%\n",
      "\tGenerations executed: 23080\n",
      "\n"
     ]
    },
    {
     "data": {
      "text/html": [
       "<div>\n",
       "<style scoped>\n",
       "    .dataframe tbody tr th:only-of-type {\n",
       "        vertical-align: middle;\n",
       "    }\n",
       "\n",
       "    .dataframe tbody tr th {\n",
       "        vertical-align: top;\n",
       "    }\n",
       "\n",
       "    .dataframe thead th {\n",
       "        text-align: right;\n",
       "    }\n",
       "</style>\n",
       "<table border=\"1\" class=\"dataframe\">\n",
       "  <thead>\n",
       "    <tr style=\"text-align: right;\">\n",
       "      <th></th>\n",
       "      <th>gen</th>\n",
       "      <th>inst</th>\n",
       "      <th>n</th>\n",
       "      <th>best_objective</th>\n",
       "      <th>coverage</th>\n",
       "      <th>time_taken</th>\n",
       "      <th>n_generations</th>\n",
       "    </tr>\n",
       "  </thead>\n",
       "  <tbody>\n",
       "    <tr>\n",
       "      <th>0</th>\n",
       "      <td>1</td>\n",
       "      <td>4</td>\n",
       "      <td>25</td>\n",
       "      <td>261.06</td>\n",
       "      <td>1.0</td>\n",
       "      <td>120</td>\n",
       "      <td>23080</td>\n",
       "    </tr>\n",
       "  </tbody>\n",
       "</table>\n",
       "</div>"
      ],
      "text/plain": [
       "   gen  inst   n  best_objective  coverage  time_taken  n_generations\n",
       "0    1     4  25          261.06       1.0         120          23080"
      ]
     },
     "metadata": {},
     "output_type": "display_data"
    }
   ],
   "source": [
    "config = {\n",
    "    'stop_criteria': 'time', # Options: 'time', 'generations'\n",
    "    'crossover_type': 'uniform' # Options: 'default', 'uniform' (uses 'default' if omitted)\n",
    "}\n",
    "results_df = run_experiment(config, pop_size_1, mutation_rate_1)\n",
    "results_df.to_csv('results/experiment_results_2.csv', index=False)\n",
    "\n",
    "display(results_df)"
   ]
  },
  {
   "cell_type": "markdown",
   "id": "4e58e5ae",
   "metadata": {},
   "source": [
    "## Configuração 3 - PADRÃO + Steady-state:\n",
    "GA com população de tamanho 'pop_size_1', taxa de mutação 'mutation_rate_1' e construção aleatória da população"
   ]
  },
  {
   "cell_type": "code",
   "execution_count": 7,
   "id": "23fa6964",
   "metadata": {},
   "outputs": [
    {
     "name": "stdout",
     "output_type": "stream",
     "text": [
      "0: 4th instance of generation strategy 1. Path: instances/gen1/instance4.txt\n",
      "Generation 0: BestSolution = ScQbfSolution(elements=[0, 1, 3, 6, 7, 8, 10, 12, 13, 14, 15, 16, 18, 19, 22, 23], _last_objfun_val=151.98999999999998)\n",
      "Generation 18: BestSolution = ScQbfSolution(elements=[0, 3, 4, 5, 7, 10, 11, 12, 16, 17, 23, 24], _last_objfun_val=158.97000000000008)\n",
      "Generation 24: BestSolution = ScQbfSolution(elements=[0, 3, 4, 5, 8, 10, 12, 13, 14, 15, 16, 18, 19, 22, 23, 24], _last_objfun_val=181.07000000000002)\n",
      "Generation 120: BestSolution = ScQbfSolution(elements=[0, 3, 4, 5, 6, 7, 10, 12, 13, 15, 18, 19, 20, 23, 24], _last_objfun_val=224.51999999999998)\n",
      "Generation 188: BestSolution = ScQbfSolution(elements=[0, 3, 4, 5, 6, 7, 10, 12, 13, 15, 16, 18, 19, 20, 22, 23, 24], _last_objfun_val=231.79999999999993)\n",
      "Generation 227: BestSolution = ScQbfSolution(elements=[0, 4, 6, 7, 8, 10, 12, 13, 15, 16, 18, 19, 20, 23, 24], _last_objfun_val=238.82999999999996)\n",
      "Generation 241: BestSolution = ScQbfSolution(elements=[0, 3, 4, 5, 6, 7, 8, 12, 13, 14, 15, 16, 18, 19, 20, 22, 23, 24], _last_objfun_val=241.45)\n",
      "Generation 254: BestSolution = ScQbfSolution(elements=[0, 3, 4, 5, 7, 8, 10, 12, 13, 14, 15, 16, 18, 19, 20, 22, 23, 24], _last_objfun_val=242.04000000000002)\n",
      "Generation 309: BestSolution = ScQbfSolution(elements=[0, 3, 4, 5, 6, 7, 8, 10, 12, 13, 15, 16, 18, 19, 20, 23, 24], _last_objfun_val=259.03999999999985)\n",
      "Generation 412: BestSolution = ScQbfSolution(elements=[0, 3, 4, 5, 6, 7, 8, 10, 12, 13, 14, 15, 16, 18, 19, 20, 23, 24], _last_objfun_val=261.05999999999983)\n",
      "Time limit of 120 seconds reached, stopping Genetic Algorithm in generation 31303.\n",
      "\tBest objective value: 261.0600\n",
      "Selected elements: [0, 3, 4, 5, 6, 7, 8, 10, 12, 13, 14, 15, 16, 18, 19, 20, 23, 24]\n",
      "\tCoverage: 100.00%\n",
      "\tGenerations executed: 31303\n",
      "\n"
     ]
    },
    {
     "data": {
      "text/html": [
       "<div>\n",
       "<style scoped>\n",
       "    .dataframe tbody tr th:only-of-type {\n",
       "        vertical-align: middle;\n",
       "    }\n",
       "\n",
       "    .dataframe tbody tr th {\n",
       "        vertical-align: top;\n",
       "    }\n",
       "\n",
       "    .dataframe thead th {\n",
       "        text-align: right;\n",
       "    }\n",
       "</style>\n",
       "<table border=\"1\" class=\"dataframe\">\n",
       "  <thead>\n",
       "    <tr style=\"text-align: right;\">\n",
       "      <th></th>\n",
       "      <th>gen</th>\n",
       "      <th>inst</th>\n",
       "      <th>n</th>\n",
       "      <th>best_objective</th>\n",
       "      <th>coverage</th>\n",
       "      <th>time_taken</th>\n",
       "      <th>n_generations</th>\n",
       "    </tr>\n",
       "  </thead>\n",
       "  <tbody>\n",
       "    <tr>\n",
       "      <th>0</th>\n",
       "      <td>1</td>\n",
       "      <td>4</td>\n",
       "      <td>25</td>\n",
       "      <td>261.06</td>\n",
       "      <td>1.0</td>\n",
       "      <td>120</td>\n",
       "      <td>31303</td>\n",
       "    </tr>\n",
       "  </tbody>\n",
       "</table>\n",
       "</div>"
      ],
      "text/plain": [
       "   gen  inst   n  best_objective  coverage  time_taken  n_generations\n",
       "0    1     4  25          261.06       1.0         120          31303"
      ]
     },
     "metadata": {},
     "output_type": "display_data"
    }
   ],
   "source": [
    "config = {\n",
    "    'stop_criteria': 'time', # Options: 'time', 'generations'\n",
    "    'evolution_mode': 'steady_state' # Options: 'default', 'steady_state'\n",
    "}\n",
    "results_df = run_experiment(config, pop_size_1, mutation_rate_1)\n",
    "results_df.to_csv('results/experiment_results_3.csv', index=False)\n",
    "\n",
    "display(results_df)"
   ]
  }
 ],
 "metadata": {
  "kernelspec": {
   "display_name": "ga",
   "language": "python",
   "name": "python3"
  },
  "language_info": {
   "codemirror_mode": {
    "name": "ipython",
    "version": 3
   },
   "file_extension": ".py",
   "mimetype": "text/x-python",
   "name": "python",
   "nbconvert_exporter": "python",
   "pygments_lexer": "ipython3",
   "version": "3.13.5"
  }
 },
 "nbformat": 4,
 "nbformat_minor": 5
}
